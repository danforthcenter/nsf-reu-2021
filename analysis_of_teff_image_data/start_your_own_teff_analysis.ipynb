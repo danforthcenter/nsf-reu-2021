{
 "cells": [
  {
   "cell_type": "markdown",
   "metadata": {},
   "source": [
    "### Image analysis with PlantCV Application\n",
    "\n",
    "Analyze Teff Images\n",
    "\n",
    "Select your images by entering your name [HERE](https://docs.google.com/spreadsheets/d/1taqJsPOu8LDW-5F5eS3GRWlV5UhHZHZGJCKr5X17_eI/edit#gid=0)\n",
    "\n",
    "[PlantCV documentation page](https://plantcv.readthedocs.io/en/stable/)"
   ]
  },
  {
   "cell_type": "code",
   "execution_count": null,
   "metadata": {},
   "outputs": [],
   "source": [
    "%matplotlib inline\n",
    "import os\n",
    "import cv2\n",
    "import numpy as np\n",
    "from plantcv import plantcv as pcv"
   ]
  },
  {
   "cell_type": "code",
   "execution_count": null,
   "metadata": {},
   "outputs": [],
   "source": [
    "# Print the PlantCV version\n",
    "pcv.__version__"
   ]
  },
  {
   "cell_type": "code",
   "execution_count": null,
   "metadata": {},
   "outputs": [],
   "source": [
    "# Handle input variables\n",
    "# This code was provided to make it easier to convert the notebook to a script\n",
    "class options():\n",
    "    def __init__(self):\n",
    "        self.debug    = \"plot\"\n",
    "        self.result   = \"results.csv\"\n",
    "        self.outdir   = \"./output_images\"\n",
    "        self.writeimg = True\n",
    "        self.image    = \"/shares/mgehan_share/mgehan/getu-tef/images/...\"  \n",
    "#                         ^\n",
    "#                         |\n",
    "#                Finish this by filling in the full file name of the image in \"...\""
   ]
  },
  {
   "cell_type": "code",
   "execution_count": null,
   "metadata": {},
   "outputs": [],
   "source": [
    "# Create input arguments object\n"
   ]
  },
  {
   "cell_type": "code",
   "execution_count": null,
   "metadata": {},
   "outputs": [],
   "source": [
    "# Set debug mode and debug outdir\n"
   ]
  },
  {
   "cell_type": "code",
   "execution_count": null,
   "metadata": {},
   "outputs": [],
   "source": [
    "# Create a folder to save the result image files if the folder not exists\n"
   ]
  },
  {
   "cell_type": "code",
   "execution_count": null,
   "metadata": {},
   "outputs": [],
   "source": [
    "# Update params related to plotting so we can see better \n"
   ]
  },
  {
   "cell_type": "markdown",
   "metadata": {},
   "source": [
    "#### STEP 1: Open an image\n",
    "We start with reading the image "
   ]
  },
  {
   "cell_type": "code",
   "execution_count": null,
   "metadata": {},
   "outputs": [],
   "source": [
    "# Read in the image using \"readimage\" function in plantcv\n",
    "# Hint: pcv.readimage\n",
    "img, imgpath, imgname = "
   ]
  },
  {
   "cell_type": "markdown",
   "metadata": {},
   "source": [
    "#### STEP 2: Find the color card and correct the exposure of the image\n",
    "The color card can be find automatically or defined location manually"
   ]
  },
  {
   "cell_type": "code",
   "execution_count": null,
   "metadata": {},
   "outputs": [],
   "source": [
    "# STEP 2: White balance\n",
    "img1 = pcv.white_balance(img=img, mode='max', roi=(x, y, width, height))\n",
    "#                                                  ^               ^   \n",
    "#                                                  |_______________|   \n",
    "#                                       \n",
    "#                                adjust these these four values, most cases there is no need to change the last two valuse (50) "
   ]
  },
  {
   "cell_type": "markdown",
   "metadata": {},
   "source": [
    "#### STEP 3: Visualize colorspaces in PlantCV\n",
    "Visualize the Hue, Saturation, Value (HSV; top row), Lightness, Green-Magenta, Blue-Yellow (LAB; bottom row) colorspaces. We looked for a color channel that enhanced the difference between plant and background. The workshop group decided the Blue-Yellow (\"b\") channel was the choice."
   ]
  },
  {
   "cell_type": "code",
   "execution_count": null,
   "metadata": {},
   "outputs": [],
   "source": [
    "# Visualize all colorspaces the image using the \"colorspaces\" function in plantcv's \"visualize\" subpackage\n",
    "# Hint: pcv.visualize.colorspaces\n",
    "all_cs = "
   ]
  },
  {
   "cell_type": "markdown",
   "metadata": {},
   "source": [
    "#### STEP 4: Report size marker\n",
    "Get and record the size of a size marker or set an area as a size marker."
   ]
  },
  {
   "cell_type": "code",
   "execution_count": null,
   "metadata": {},
   "outputs": [],
   "source": [
    "# Define an ROI for the marker\n",
    "# Hint: pcv.roi.rectangle\n",
    "roi_contour, roi_hierarchy =\n",
    "\n",
    "# Detect and Measure Size Marker\n",
    "# Hint: pcv.report_size_marker_area"
   ]
  },
  {
   "cell_type": "markdown",
   "metadata": {},
   "source": [
    "#### STEP 5: Convert image from RGB colorspace to LAB colorspace\n",
    "Extract the Green-Magenta (\"a\") channel channel from the LAB colorspace.\n",
    "Other availabilities from LAB colorspace:\n",
    "lightness (\"l\")\n",
    "Blue-Yellow (\"b\")"
   ]
  },
  {
   "cell_type": "code",
   "execution_count": null,
   "metadata": {},
   "outputs": [],
   "source": [
    "%matplotlib notebook\n",
    "# Convert from RGB to LAB colorspace and keep only channel \"a\" using the plantcv function \"rgb2gray_lab\"\n",
    "# Hint: pcv.rgb2gray_lab\n",
    "\n",
    "gray_img = "
   ]
  },
  {
   "cell_type": "markdown",
   "metadata": {},
   "source": [
    "#### STEP 6: Plot a histogram of pixel values for the selected color channel\n",
    "Green-Magenta (\"a\") channel."
   ]
  },
  {
   "cell_type": "code",
   "execution_count": null,
   "metadata": {},
   "outputs": [],
   "source": [
    "# Visualize the histogram for the grayscale image using \"histogram\" function in the plantcv subpackage \"visualize\"\n",
    "# Hint: pcv.visualize.histogram\n"
   ]
  },
  {
   "cell_type": "markdown",
   "metadata": {},
   "source": [
    "#### STEP 7: Apply a binary threshold to the Green-Magenta (\"a\") channel grayscale image.\n",
    "In the histogram (in STEP 5) the biggest peak is the uniform background in the image above. \n",
    "Through pixel inspection in \"notebook\" mode (in STEP 4) we saw that the smaller peak between ~110 to 116 are the plant pixels.\n",
    "\n",
    "This gives us a hint of choosing threshold value. \n",
    "We choose a threshold value of 115 to set pixels with values > 115 to black (0) and <= 115 to white (255)."
   ]
  },
  {
   "cell_type": "code",
   "execution_count": null,
   "metadata": {},
   "outputs": [],
   "source": [
    "%matplotlib inline\n",
    "# Apply a binary threshold to the \"a\" channel by function \"binary\"\n",
    "# Hint: pcv.threshold.binary\n",
    "\n",
    "thresh_img = "
   ]
  },
  {
   "cell_type": "markdown",
   "metadata": {},
   "source": [
    "#### STEP 8: Create a region of interest (ROI)\n",
    "We have removed most or all of the background around the plant but still have some large background objects (e.g. color card, pot label, etc.). An ROI will allow us to keep objects only in the region we want. Since we know in this dataset that the plants are always centered in the middel of the image we can set an ROI easily. The ROI is centered at 1725, 1155 and has a radius of 400 pixels."
   ]
  },
  {
   "cell_type": "code",
   "execution_count": null,
   "metadata": {},
   "outputs": [],
   "source": [
    "# Create a rectangular ROI\n",
    "# Hint: pcv.roi.rectangle\n",
    "roi, roi_str =               "
   ]
  },
  {
   "cell_type": "markdown",
   "metadata": {},
   "source": [
    "#### STEP 9: Identify objects in the binary image\n",
    "Before we can filter out background objects we have to identify objects in the binary image above. The `find_objects` function identifies contours (or connected components) and returns a polygon for each. The `cnts` and `cnts_str` are the list of polygons and the hierarchical relationship between polygons, respectively."
   ]
  },
  {
   "cell_type": "code",
   "execution_count": null,
   "metadata": {},
   "outputs": [],
   "source": [
    "# Identify objects in the binary image using \"find_objects\" function in plantcv\n",
    "# Hint: pcv.find_objects\n",
    "cnts, cnts_str = "
   ]
  },
  {
   "cell_type": "markdown",
   "metadata": {},
   "source": [
    "#### STEP 10: Filter objects by a region of interest (ROI)\n",
    "Now we combine the ROI and polygons found in the previous two steps. The `roi_objects` function will use the ROI to find polygons that overlap and keep them. Polygons completely outside the ROI will be discarded. The polygons need not be entirely enclosed by the ROI, for flexibility, because we are using the mode \"partial.\""
   ]
  },
  {
   "cell_type": "code",
   "execution_count": null,
   "metadata": {},
   "outputs": [],
   "source": [
    "# Filter objects by region of interest using \"roi_objects\" function\n",
    "# Hint: pcv.roi_objects\n",
    "plant_cnt, plant_str, plant_mask, plant_area = "
   ]
  },
  {
   "cell_type": "markdown",
   "metadata": {},
   "source": [
    "#### STEP 11: Combine remaining objects into a single object\n",
    "To collect measurements we need to build a single plant object from potentially multiple objects/polygons. For example, sometimes leaves are detected as separate objects."
   ]
  },
  {
   "cell_type": "code",
   "execution_count": null,
   "metadata": {},
   "outputs": [],
   "source": [
    "# Combine objects into one using \"object_composition\" function\n",
    "# Hint: pcv.object_composition\n",
    "plant, mask = "
   ]
  },
  {
   "cell_type": "markdown",
   "metadata": {},
   "source": [
    "#### STEP 12: Measure plant size and shape\n",
    "The `analyze_object` function outputs measurements about the size and shape of the plant. If the `writeimg` input argument is `True` we will save the output image to a file."
   ]
  },
  {
   "cell_type": "code",
   "execution_count": null,
   "metadata": {},
   "outputs": [],
   "source": [
    "# Measure size and shape properties\n",
    "# Hint: pcv.analyze_object\n",
    "shape_img = \n"
   ]
  },
  {
   "cell_type": "markdown",
   "metadata": {},
   "source": [
    "#### STEP 13: (Optional) Analyze color of plant\n",
    "The `analyze_color` function outputs histograms of choice (indicated by `colorspaces`). If the `writeimg` input argument is `True` we will save the output image to a file."
   ]
  },
  {
   "cell_type": "code",
   "execution_count": null,
   "metadata": {},
   "outputs": [],
   "source": [
    "# Analyze color by examining histograms using the \"analyze_color\" function\n",
    "# Hint: pcv.analyze_color\n",
    "color_img = "
   ]
  },
  {
   "cell_type": "markdown",
   "metadata": {},
   "source": [
    "#### STEP 14: Set horizontal boundary line\n",
    "This allows the extraction of biologically meaningful data."
   ]
  },
  {
   "cell_type": "markdown",
   "metadata": {},
   "source": [
    "##### STEP 14.1 (Optional) Rotate the image and the mask"
   ]
  },
  {
   "cell_type": "code",
   "execution_count": null,
   "metadata": {},
   "outputs": [],
   "source": [
    "# Rotate the original image if necessary using the \"rotate\" function\n",
    "# Hint: pcv.transform.rotate\n",
    "rotate_img = "
   ]
  },
  {
   "cell_type": "code",
   "execution_count": null,
   "metadata": {},
   "outputs": [],
   "source": [
    "# rotate the mask using the EXACT same value\n",
    "img  = rotate_img\n",
    "mask = "
   ]
  },
  {
   "cell_type": "markdown",
   "metadata": {},
   "source": [
    "##### STEP 14.2 Set the horizontal reference line to split the measurements into \"above line\" and \"below line\""
   ]
  },
  {
   "cell_type": "code",
   "execution_count": null,
   "metadata": {},
   "outputs": [],
   "source": [
    "# Set the horizontal reference line using \"analyze_bound_horizontal\"\n",
    "# Hint: pcv.analyze_bound_horizontal\n",
    "boundary_image = "
   ]
  },
  {
   "cell_type": "markdown",
   "metadata": {},
   "source": [
    "#### STEP 15: Save the measurements to a file\n",
    "The `save_results` function saves the results collected by all the `analyze_*` functions."
   ]
  },
  {
   "cell_type": "code",
   "execution_count": null,
   "metadata": {},
   "outputs": [],
   "source": [
    "# Save the measurements to a file\n",
    "# Hint: pcv.outputs.save_results with outformat=\"csv\"\n"
   ]
  },
  {
   "cell_type": "markdown",
   "metadata": {},
   "source": [
    "#### STEP 16: Try look at some measurements you've collected!\n",
    "Feel free to take a look at some measurements you've collected, I've included some examples below.\n",
    "\n",
    "Also take a look to see if your result file is saved!"
   ]
  },
  {
   "cell_type": "code",
   "execution_count": null,
   "metadata": {},
   "outputs": [],
   "source": []
  },
  {
   "cell_type": "code",
   "execution_count": null,
   "metadata": {},
   "outputs": [],
   "source": []
  }
 ],
 "metadata": {
  "kernelspec": {
   "display_name": "Python (Data Science)",
   "language": "python",
   "name": "python_ds"
  },
  "language_info": {
   "codemirror_mode": {
    "name": "ipython",
    "version": 3
   },
   "file_extension": ".py",
   "mimetype": "text/x-python",
   "name": "python",
   "nbconvert_exporter": "python",
   "pygments_lexer": "ipython3",
   "version": "3.8.8"
  }
 },
 "nbformat": 4,
 "nbformat_minor": 4
}
